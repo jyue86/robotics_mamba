{
 "cells": [
  {
   "cell_type": "code",
   "execution_count": 1,
   "metadata": {},
   "outputs": [],
   "source": [
    "from sys import path\n",
    "\n",
    "path.append(\"../\")\n",
    "\n",
    "import jax\n",
    "from jax import random\n",
    "import jax.numpy as jnp\n",
    "from flax import linen as nn\n",
    "from matplotlib import pyplot as plt\n",
    "from mamba import *\n",
    "\n",
    "seed = 0\n",
    "rng = jax.random.PRNGKey(seed)\n",
    "BATCH_SIZE = 4"
   ]
  },
  {
   "cell_type": "code",
   "execution_count": 2,
   "metadata": {},
   "outputs": [
    {
     "data": {
      "text/plain": [
       "{CpuDevice(id=0)}"
      ]
     },
     "execution_count": 2,
     "metadata": {},
     "output_type": "execute_result"
    }
   ],
   "source": [
    "x = jnp.arange(5)\n",
    "x.devices()"
   ]
  },
  {
   "cell_type": "markdown",
   "metadata": {},
   "source": [
    "# Args"
   ]
  },
  {
   "cell_type": "code",
   "execution_count": 3,
   "metadata": {},
   "outputs": [
    {
     "data": {
      "text/plain": [
       "ModelArgs(d_model=2048, d_inner=4096, n_layers=8, vocab_size=200, d_state=16, expand=2, dt_rank=128, d_conv=4, pad_vocab_size_multiple=8, conv_bias=True, bias=False)"
      ]
     },
     "execution_count": 3,
     "metadata": {},
     "output_type": "execute_result"
    }
   ],
   "source": [
    "d_model = 2048\n",
    "\n",
    "args = ModelArgs.init(d_model=d_model, n_layers=8, vocab_size=200)\n",
    "args"
   ]
  },
  {
   "cell_type": "markdown",
   "metadata": {},
   "source": [
    "# RMSNorm"
   ]
  },
  {
   "cell_type": "code",
   "execution_count": 4,
   "metadata": {},
   "outputs": [
    {
     "data": {
      "text/plain": [
       "{'params': {'weight': (1,)}}"
      ]
     },
     "execution_count": 4,
     "metadata": {},
     "output_type": "execute_result"
    }
   ],
   "source": [
    "norm_layer = RMSNorm(4)\n",
    "x = jnp.zeros((BATCH_SIZE, 4))\n",
    "norm_params = norm_layer.init(rng, x)\n",
    "jax.tree.map(lambda x: x.shape, norm_params)"
   ]
  },
  {
   "cell_type": "code",
   "execution_count": 5,
   "metadata": {},
   "outputs": [
    {
     "data": {
      "text/plain": [
       "{'params': {'weight': Array([1.], dtype=float32)}}"
      ]
     },
     "execution_count": 5,
     "metadata": {},
     "output_type": "execute_result"
    }
   ],
   "source": [
    "norm_params"
   ]
  },
  {
   "cell_type": "code",
   "execution_count": 6,
   "metadata": {},
   "outputs": [
    {
     "data": {
      "text/plain": [
       "Array([[0., 0., 0., 0.],\n",
       "       [0., 0., 0., 0.],\n",
       "       [0., 0., 0., 0.],\n",
       "       [0., 0., 0., 0.]], dtype=float32)"
      ]
     },
     "execution_count": 6,
     "metadata": {},
     "output_type": "execute_result"
    }
   ],
   "source": [
    "output = norm_layer.apply(norm_params, x)\n",
    "output"
   ]
  },
  {
   "cell_type": "markdown",
   "metadata": {},
   "source": [
    "# Blocks"
   ]
  },
  {
   "cell_type": "code",
   "execution_count": 7,
   "metadata": {},
   "outputs": [
    {
     "name": "stdout",
     "output_type": "stream",
     "text": [
      "(4, 16, 2048)\n"
     ]
    }
   ],
   "source": [
    "mamba_block = MambaBlock(args)\n",
    "# input shape is (BATCH_SIZE, l, d)\n",
    "length = 16\n",
    "x = random.normal(rng, (BATCH_SIZE, length, d_model))\n",
    "mamba_block_params = mamba_block.init(rng, x)\n",
    "res = mamba_block.apply(mamba_block_params, x)\n",
    "print(res.shape)"
   ]
  },
  {
   "cell_type": "code",
   "execution_count": 8,
   "metadata": {},
   "outputs": [
    {
     "data": {
      "text/plain": [
       "Array([[[ 0.54489195,  0.76979446,  0.285774  , ..., -0.32827622,\n",
       "          0.02162874,  0.86027986],\n",
       "        [-0.96390545,  2.14774   ,  1.3344753 , ...,  0.73951054,\n",
       "          1.7069014 ,  0.63864386],\n",
       "        [-0.19300614,  1.2431338 ,  1.2610406 , ...,  0.28740847,\n",
       "          1.4620298 , -0.3728822 ],\n",
       "        ...,\n",
       "        [ 1.4138645 ,  1.175028  ,  0.19055331, ..., -0.95587724,\n",
       "         -0.527748  , -1.3096331 ],\n",
       "        [-0.65941924, -0.32283282,  0.03829893, ..., -2.9821916 ,\n",
       "          1.7974606 ,  1.2640463 ],\n",
       "        [-1.7579169 , -1.3390398 , -0.35797685, ...,  0.01441868,\n",
       "         -0.12741882,  0.9854253 ]],\n",
       "\n",
       "       [[-0.47561848,  0.47945794, -1.8594437 , ...,  0.45038664,\n",
       "          1.3948874 ,  0.80349314],\n",
       "        [-0.24722195, -0.04237077, -0.63305736, ...,  0.6097346 ,\n",
       "          0.46724403,  1.9105839 ],\n",
       "        [-0.97513324,  0.47870314, -0.23954386, ...,  0.89060074,\n",
       "          0.19746482, -1.5330082 ],\n",
       "        ...,\n",
       "        [ 0.6828121 ,  0.02419403,  0.7800219 , ..., -0.27397054,\n",
       "          1.352584  , -1.0366902 ],\n",
       "        [-0.27495295, -0.08016151, -2.2191584 , ...,  2.369153  ,\n",
       "         -1.8201451 ,  0.2322644 ],\n",
       "        [ 0.56900215, -0.90311706, -0.68471533, ..., -0.83827186,\n",
       "          0.9590758 , -0.1610367 ]],\n",
       "\n",
       "       [[ 1.2426196 , -1.2673441 ,  0.1805999 , ...,  0.93665165,\n",
       "         -0.74861366,  0.40278408],\n",
       "        [ 0.06320175,  0.29203168,  1.3548801 , ..., -0.67149556,\n",
       "          0.61820513,  0.49878755],\n",
       "        [-0.4064626 , -1.4962488 ,  1.508881  , ...,  0.2849858 ,\n",
       "         -0.31476897, -0.08857358],\n",
       "        ...,\n",
       "        [ 0.32399637, -0.29613099,  1.5238423 , ..., -0.12223893,\n",
       "         -0.3410674 , -0.7867458 ],\n",
       "        [ 1.78822   ,  0.04781878,  1.4285674 , ..., -0.34643096,\n",
       "          0.12061928, -1.3940187 ],\n",
       "        [-1.050948  ,  0.9900466 , -1.0160961 , ..., -0.5693487 ,\n",
       "         -0.81367016, -0.10215652]],\n",
       "\n",
       "       [[-0.8239069 , -1.4709105 , -1.9357456 , ..., -0.4022076 ,\n",
       "         -0.29460308,  1.2880801 ],\n",
       "        [-0.24835125, -1.2760367 , -0.30382738, ...,  1.1330955 ,\n",
       "         -0.5387378 , -0.24095057],\n",
       "        [ 0.06229989,  0.5239266 ,  0.8730565 , ...,  0.24779746,\n",
       "          1.2677188 ,  0.74562025],\n",
       "        ...,\n",
       "        [-0.78087217,  0.7933167 ,  1.6568189 , ...,  0.7687251 ,\n",
       "          1.5140038 ,  1.7518322 ],\n",
       "        [ 1.4838719 ,  0.37284678,  0.80215836, ...,  1.5860555 ,\n",
       "          0.03793418,  0.09629944],\n",
       "        [-0.85474634,  0.2441549 , -1.5677171 , ..., -0.86015254,\n",
       "          0.5592758 ,  1.1515744 ]]], dtype=float32)"
      ]
     },
     "execution_count": 8,
     "metadata": {},
     "output_type": "execute_result"
    }
   ],
   "source": [
    "residal = ResidualBlock(args)\n",
    "residal_params = residal.init(rng, random.uniform(rng, (BATCH_SIZE, length, d_model)))\n",
    "residal.apply(residal_params, x)"
   ]
  },
  {
   "cell_type": "code",
   "execution_count": 9,
   "metadata": {},
   "outputs": [
    {
     "name": "stdout",
     "output_type": "stream",
     "text": [
      "x shape after norm: (4, 16, 2048)\n",
      "x shape after norm: (4, 16, 2048)\n",
      "(4, 16, 200)\n"
     ]
    }
   ],
   "source": [
    "mamab = Mamba(args)\n",
    "input_ids = random.randint(rng, (BATCH_SIZE, length), 0, args.vocab_size)\n",
    "mamab_params = mamab.init(rng, input_ids)\n",
    "logits = mamab.apply(mamab_params, input_ids)\n",
    "\n",
    "print(logits.shape)"
   ]
  },
  {
   "cell_type": "code",
   "execution_count": 10,
   "metadata": {},
   "outputs": [
    {
     "data": {
      "text/plain": [
       "Array([[10., 10., 10., 10.],\n",
       "       [10., 10., 10., 10.],\n",
       "       [10., 10., 10., 10.],\n",
       "       [10., 10., 10., 10.]], dtype=float32)"
      ]
     },
     "execution_count": 10,
     "metadata": {},
     "output_type": "execute_result"
    }
   ],
   "source": [
    "thing_to_index = jnp.arange(5)\n",
    "\n",
    "@jax.jit\n",
    "def fn(carry, i):\n",
    "    carry = carry + thing_to_index[i]\n",
    "    return carry, x \n",
    "\n",
    "result1, result2 = jax.lax.scan(fn, jnp.zeros((4,4)), jnp.arange(5))\n",
    "result1"
   ]
  },
  {
   "cell_type": "code",
   "execution_count": 11,
   "metadata": {},
   "outputs": [
    {
     "data": {
      "text/plain": [
       "Array([0, 1, 2, 3, 4], dtype=int32)"
      ]
     },
     "execution_count": 11,
     "metadata": {},
     "output_type": "execute_result"
    }
   ],
   "source": [
    "jnp.arange(5)"
   ]
  },
  {
   "cell_type": "markdown",
   "metadata": {},
   "source": [
    "# Torch vs Flax"
   ]
  },
  {
   "cell_type": "code",
   "execution_count": 12,
   "metadata": {},
   "outputs": [],
   "source": [
    "import torch.nn as tnn\n",
    "import flax.linen as fnn\n",
    "\n",
    "d_inner = 2048\n",
    "conv_bias = True\n",
    "d_conv=4\n",
    "torch_conv = tnn.Conv1d(\n",
    "    in_channels=d_inner,\n",
    "    out_channels=d_inner,\n",
    "    bias=conv_bias,\n",
    "    kernel_size=d_conv,\n",
    "    groups=d_inner,\n",
    "    padding=d_conv - 1\n",
    ")\n",
    "flax_conv = fnn.Conv(\n",
    "    features=d_inner,\n",
    "    use_bias=conv_bias,\n",
    "    kernel_size=d_conv,\n",
    "    feature_group_count=d_inner,\n",
    "    padding=d_conv - 1\n",
    ")"
   ]
  },
  {
   "cell_type": "code",
   "execution_count": 13,
   "metadata": {},
   "outputs": [],
   "source": [
    "import torch\n",
    "import jax.numpy as jnp\n",
    "\n",
    "t_input = torch.zeros((1, 2048, 4))\n",
    "j_input = jnp.zeros((1, 4, 2048))"
   ]
  },
  {
   "cell_type": "code",
   "execution_count": 14,
   "metadata": {},
   "outputs": [
    {
     "name": "stdout",
     "output_type": "stream",
     "text": [
      "torch.Size([1, 2048, 7])\n",
      "(1, 7, 2048)\n"
     ]
    }
   ],
   "source": [
    "rng = jax.random.PRNGKey(0)\n",
    "flax_params = flax_conv.init(rng, j_input)\n",
    "print(torch_conv(t_input).shape)\n",
    "print(flax_conv.apply(flax_params, j_input).shape)"
   ]
  },
  {
   "cell_type": "code",
   "execution_count": null,
   "metadata": {},
   "outputs": [],
   "source": []
  }
 ],
 "metadata": {
  "kernelspec": {
   "display_name": ".venv",
   "language": "python",
   "name": "python3"
  },
  "language_info": {
   "codemirror_mode": {
    "name": "ipython",
    "version": 3
   },
   "file_extension": ".py",
   "mimetype": "text/x-python",
   "name": "python",
   "nbconvert_exporter": "python",
   "pygments_lexer": "ipython3",
   "version": "3.11.6"
  }
 },
 "nbformat": 4,
 "nbformat_minor": 2
}
